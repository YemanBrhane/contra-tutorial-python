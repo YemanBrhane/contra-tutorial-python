{
 "cells": [
  {
   "cell_type": "markdown",
   "metadata": {},
   "source": [
    "# Python in Life Sciences\n",
    "\n",
    "\n",
    "The aim o the tutorial is to show usage of the main Python tools used in bioinformatics contexts and to present a workflow of preparing a simple CLI application.\n",
    "\n",
    "\n",
    "Outline:\n",
    "1. Prototyping\n",
    "    * processing SAM files (pysam)\n",
    "    * processing TSV files (pandas, pyarrow)\n",
    "    * adding multiprocessing \n",
    "2. Project setup - CLI application counting gRNAs from alignment files\n",
    "    * project stucture\n",
    "    * bsic funcitonality implementation\n",
    "    * documentation\n",
    "    \n",
    "Problem:\n",
    "Let's assume we have a data from the CRISPR screen experimemt. For the purpose of the tutorial we are going to focus on one step of the data processing - counting genes indentified by guide RNA sequences aligned to the library. The real analysis requires to start with demultiplexing, trimming the reads and performing and alignment to a library. Let's assume we have these steps performed already."
   ]
  },
  {
   "cell_type": "markdown",
   "metadata": {},
   "source": [
    "Task: process the SAM file in order to get counts of genes indentified by the gRNAs. Write results to a TSV file and visualize them."
   ]
  },
  {
   "cell_type": "markdown",
   "metadata": {},
   "source": [
    "## Processing SAM files"
   ]
  },
  {
   "cell_type": "markdown",
   "metadata": {},
   "source": [
    "#### The first approach: parse SAM file with pysam module read by read.\n",
    "\n",
    "Firstly, let's import some basic momdels."
   ]
  },
  {
   "cell_type": "code",
   "execution_count": 1,
   "metadata": {},
   "outputs": [],
   "source": [
    "import csv\n",
    "import glob\n",
    "import os\n",
    "import matplotlib.pyplot as plt\n",
    "import multiprocessing as mp\n",
    "import pandas as pd\n",
    "import pyarrow as pa\n",
    "import pyarrow.parquet as pq\n",
    "import pysam\n",
    "import seaborn as sns\n",
    "\n",
    "from Bio import SeqIO\n",
    "from collections import defaultdict\n",
    "\n",
    "import warnings\n",
    "warnings.filterwarnings('ignore')"
   ]
  },
  {
   "cell_type": "markdown",
   "metadata": {},
   "source": [
    "Assuming someone would like to parse the library inorder to obtain all gRNA-s identifiers, the easiest way is to parse FASTA with with the library with the Biopython module."
   ]
  },
  {
   "cell_type": "code",
   "execution_count": 3,
   "metadata": {},
   "outputs": [],
   "source": [
    "library = \"data/screen_library.fasta\"\n",
    "\n",
    "genes_count = dict()\n",
    "with open(library, \"r\") as handle:\n",
    "    for record in SeqIO.parse(handle, \"fasta\"):\n",
    "        genes_count[record.id.split(\"_\")[0]] = 0"
   ]
  },
  {
   "cell_type": "markdown",
   "metadata": {},
   "source": [
    "Parse the SAM file and print some information about each read:"
   ]
  },
  {
   "cell_type": "code",
   "execution_count": null,
   "metadata": {},
   "outputs": [],
   "source": [
    "sam = pysam.AlignmentFile(\"data/sam_files/sample1.sam\", \"r\")\n",
    "for read in sam.fetch():\n",
    "    print(read.reference_name, read.reference_name, read.is_unmapped)\n",
    "    print(read.query_name, read.query_sequence, read.query_length, read.get_tags())\n",
    "sam.close()"
   ]
  },
  {
   "cell_type": "markdown",
   "metadata": {},
   "source": [
    "Having a dictionary of all genes, we go through th SAM file and count the genes."
   ]
  },
  {
   "cell_type": "code",
   "execution_count": 15,
   "metadata": {},
   "outputs": [],
   "source": [
    "sam_file = \"data/sam_files/sample1.sam\"\n",
    "sam = pysam.AlignmentFile(sam_file, \"r\")\n",
    "for read in sam.fetch():\n",
    "    if not read.is_unmapped and read.qlen <= 20 and read.get_tag('NM') == 1:\n",
    "        genes_count[read.reference_name.split(\"_\", 1)[0]] += 1\n",
    "sam.close()"
   ]
  },
  {
   "cell_type": "markdown",
   "metadata": {},
   "source": [
    "Now, we save the results in a TSV file."
   ]
  },
  {
   "cell_type": "code",
   "execution_count": 16,
   "metadata": {},
   "outputs": [],
   "source": [
    "counts_report = 'report_test.tsv'\n",
    "header = [\"gene\", \"count\"]\n",
    "with open(counts_report, 'w') as csvfile:\n",
    "    gene_count_csv = csv.writer(csvfile, delimiter='\\t')\n",
    "    gene_count_csv.writerow(header)\n",
    "    for gene in sorted(genes_count.keys()):\n",
    "        gene_count_csv.writerow([gene, genes_count[gene]])   "
   ]
  },
  {
   "cell_type": "markdown",
   "metadata": {},
   "source": [
    "Let's gather all the steps into a function:"
   ]
  },
  {
   "cell_type": "code",
   "execution_count": 17,
   "metadata": {},
   "outputs": [],
   "source": [
    "def write_report(genes_count, report):\n",
    "    header = [\"gene\", \"count\"]\n",
    "    with open(report, 'w') as csvfile:\n",
    "        gene_count_csv = csv.writer(csvfile, delimiter='\\t')\n",
    "        gene_count_csv.writerow(header)\n",
    "        for gene in sorted(genes_count.keys()):\n",
    "            gene_count_csv.writerow([gene, genes_count[gene]])  \n",
    "\n",
    "            \n",
    "def count_genes_pysam(sam_aln, report):\n",
    "    sam = pysam.AlignmentFile(sam_aln, \"rb\")\n",
    "    genes_count = defaultdict(int)\n",
    "    for read in sam.fetch():\n",
    "        if not read.is_unmapped and read.qlen <= 20 and read.get_tag('NM') == 1:\n",
    "            genes_count[read.reference_name.split(\"_\", 1)[0]] += 1\n",
    "    sam.close()\n",
    "    write_report(genes_count, report)"
   ]
  },
  {
   "cell_type": "markdown",
   "metadata": {},
   "source": [
    "And check the function's performance:"
   ]
  },
  {
   "cell_type": "code",
   "execution_count": 18,
   "metadata": {},
   "outputs": [
    {
     "name": "stdout",
     "output_type": "stream",
     "text": [
      "10.9 ms ± 28.1 µs per loop (mean ± std. dev. of 7 runs, 100 loops each)\n"
     ]
    }
   ],
   "source": [
    "%timeit count_genes_pysam(\"data/sam_files/sample1.sam\", \"counts_report1.tsv\")"
   ]
  },
  {
   "cell_type": "markdown",
   "metadata": {},
   "source": [
    "## Processing TSV files"
   ]
  },
  {
   "cell_type": "markdown",
   "metadata": {},
   "source": [
    "#### Approach 2: treat the SAM file as a TSV file.\n",
    "\n",
    "We are going to use pandas to process the TSV file quickly."
   ]
  },
  {
   "cell_type": "markdown",
   "metadata": {},
   "source": [
    "Because the SAM file do not have a constant number of columns, we need to define the columns before we read in the file."
   ]
  },
  {
   "cell_type": "code",
   "execution_count": 20,
   "metadata": {},
   "outputs": [],
   "source": [
    "column_names = [\"read_id\", \"flags_sum\", \"ref\", \"pos\", \"quality\", \"cigar\", \n",
    "        \"ref_aln\", \"aln_pos\", \"insert\", \"read_seq\", \"aln\", \n",
    "        \"opt1\", \"opt2\", \"opt3\", \"opt4\", \"opt5\", \"opt6\", \"opt7\" ]"
   ]
  },
  {
   "cell_type": "code",
   "execution_count": 21,
   "metadata": {},
   "outputs": [],
   "source": [
    "aln = pd.read_csv(\"data/sam_files/sample1.sam\", delimiter=\"\\t\", names=column_names, comment=\"@\", \n",
    "                  index_col=False, compression='infer')"
   ]
  },
  {
   "cell_type": "code",
   "execution_count": 22,
   "metadata": {},
   "outputs": [],
   "source": [
    "aln.to_csv(\"data/tsv_files/sample1.tsv.gz\", sep=\"\\t\", index=False, compression=\"gzip\")"
   ]
  },
  {
   "cell_type": "markdown",
   "metadata": {},
   "source": [
    "Let's quickly investigate the dataframe:"
   ]
  },
  {
   "cell_type": "code",
   "execution_count": 23,
   "metadata": {},
   "outputs": [
    {
     "data": {
      "text/html": [
       "<div>\n",
       "<style scoped>\n",
       "    .dataframe tbody tr th:only-of-type {\n",
       "        vertical-align: middle;\n",
       "    }\n",
       "\n",
       "    .dataframe tbody tr th {\n",
       "        vertical-align: top;\n",
       "    }\n",
       "\n",
       "    .dataframe thead th {\n",
       "        text-align: right;\n",
       "    }\n",
       "</style>\n",
       "<table border=\"1\" class=\"dataframe\">\n",
       "  <thead>\n",
       "    <tr style=\"text-align: right;\">\n",
       "      <th></th>\n",
       "      <th>read_id</th>\n",
       "      <th>flags_sum</th>\n",
       "      <th>ref</th>\n",
       "      <th>pos</th>\n",
       "      <th>quality</th>\n",
       "      <th>cigar</th>\n",
       "      <th>ref_aln</th>\n",
       "      <th>aln_pos</th>\n",
       "      <th>insert</th>\n",
       "      <th>read_seq</th>\n",
       "      <th>aln</th>\n",
       "      <th>opt1</th>\n",
       "      <th>opt2</th>\n",
       "      <th>opt3</th>\n",
       "      <th>opt4</th>\n",
       "      <th>opt5</th>\n",
       "      <th>opt6</th>\n",
       "      <th>opt7</th>\n",
       "    </tr>\n",
       "  </thead>\n",
       "  <tbody>\n",
       "    <tr>\n",
       "      <th>0</th>\n",
       "      <td>M01100:32:000000000-AAD7V:1:1101:14377:1582</td>\n",
       "      <td>4</td>\n",
       "      <td>*</td>\n",
       "      <td>0</td>\n",
       "      <td>0</td>\n",
       "      <td>*</td>\n",
       "      <td>*</td>\n",
       "      <td>0</td>\n",
       "      <td>0</td>\n",
       "      <td>TTTTTTTCTTTTTTCCCTTCCTCCCCCCCTTTTTTCTTTTTTCTTT...</td>\n",
       "      <td>1&gt;&gt;&gt;&gt;&gt;ACFFDFBE01A1F0AF100A0AEE0111/01A111/011112</td>\n",
       "      <td>NaN</td>\n",
       "      <td>NaN</td>\n",
       "      <td>NaN</td>\n",
       "      <td>NaN</td>\n",
       "      <td>NaN</td>\n",
       "      <td>NaN</td>\n",
       "      <td>NaN</td>\n",
       "    </tr>\n",
       "    <tr>\n",
       "      <th>1</th>\n",
       "      <td>M01100:32:000000000-AAD7V:1:1101:12719:1825</td>\n",
       "      <td>4</td>\n",
       "      <td>*</td>\n",
       "      <td>0</td>\n",
       "      <td>0</td>\n",
       "      <td>*</td>\n",
       "      <td>*</td>\n",
       "      <td>0</td>\n",
       "      <td>0</td>\n",
       "      <td>GAACATATGCTCAGGTAGG</td>\n",
       "      <td>A00A/G1GDFGG1EBGEB/</td>\n",
       "      <td>XM:i:0</td>\n",
       "      <td>NaN</td>\n",
       "      <td>NaN</td>\n",
       "      <td>NaN</td>\n",
       "      <td>NaN</td>\n",
       "      <td>NaN</td>\n",
       "      <td>NaN</td>\n",
       "    </tr>\n",
       "    <tr>\n",
       "      <th>2</th>\n",
       "      <td>M01100:32:000000000-AAD7V:1:1101:14508:1832</td>\n",
       "      <td>4</td>\n",
       "      <td>*</td>\n",
       "      <td>0</td>\n",
       "      <td>0</td>\n",
       "      <td>*</td>\n",
       "      <td>*</td>\n",
       "      <td>0</td>\n",
       "      <td>0</td>\n",
       "      <td>GGATGCTAATGGTCGGTTATA</td>\n",
       "      <td>C00BEFG2DFFFGE/?EE/EF</td>\n",
       "      <td>XM:i:0</td>\n",
       "      <td>NaN</td>\n",
       "      <td>NaN</td>\n",
       "      <td>NaN</td>\n",
       "      <td>NaN</td>\n",
       "      <td>NaN</td>\n",
       "      <td>NaN</td>\n",
       "    </tr>\n",
       "    <tr>\n",
       "      <th>3</th>\n",
       "      <td>M01100:32:000000000-AAD7V:1:1101:14704:1833</td>\n",
       "      <td>4</td>\n",
       "      <td>*</td>\n",
       "      <td>0</td>\n",
       "      <td>0</td>\n",
       "      <td>*</td>\n",
       "      <td>*</td>\n",
       "      <td>0</td>\n",
       "      <td>0</td>\n",
       "      <td>TACTCTTCTTGTGGAAAGGACGAAACACCGTGCCGTCGTCGTCGGC...</td>\n",
       "      <td>A1&gt;A&gt;FFFFFFF111F1111BA000AFFFA0A0AAEEEGC/EA//E...</td>\n",
       "      <td>NaN</td>\n",
       "      <td>NaN</td>\n",
       "      <td>NaN</td>\n",
       "      <td>NaN</td>\n",
       "      <td>NaN</td>\n",
       "      <td>NaN</td>\n",
       "      <td>NaN</td>\n",
       "    </tr>\n",
       "    <tr>\n",
       "      <th>4</th>\n",
       "      <td>M01100:32:000000000-AAD7V:1:1101:17714:1839</td>\n",
       "      <td>4</td>\n",
       "      <td>*</td>\n",
       "      <td>0</td>\n",
       "      <td>0</td>\n",
       "      <td>*</td>\n",
       "      <td>*</td>\n",
       "      <td>0</td>\n",
       "      <td>0</td>\n",
       "      <td>ACTTTCTCTTGTGGAAAGGACGAAACACCGCATCTTTGGTCTTCTT...</td>\n",
       "      <td>11&gt;AA3BDFFBF11111111B000EAGFE?000E12DB0/A21B2D...</td>\n",
       "      <td>NaN</td>\n",
       "      <td>NaN</td>\n",
       "      <td>NaN</td>\n",
       "      <td>NaN</td>\n",
       "      <td>NaN</td>\n",
       "      <td>NaN</td>\n",
       "      <td>NaN</td>\n",
       "    </tr>\n",
       "  </tbody>\n",
       "</table>\n",
       "</div>"
      ],
      "text/plain": [
       "                                       read_id  flags_sum ref  pos  quality  \\\n",
       "0  M01100:32:000000000-AAD7V:1:1101:14377:1582          4   *    0        0   \n",
       "1  M01100:32:000000000-AAD7V:1:1101:12719:1825          4   *    0        0   \n",
       "2  M01100:32:000000000-AAD7V:1:1101:14508:1832          4   *    0        0   \n",
       "3  M01100:32:000000000-AAD7V:1:1101:14704:1833          4   *    0        0   \n",
       "4  M01100:32:000000000-AAD7V:1:1101:17714:1839          4   *    0        0   \n",
       "\n",
       "  cigar ref_aln  aln_pos  insert  \\\n",
       "0     *       *        0       0   \n",
       "1     *       *        0       0   \n",
       "2     *       *        0       0   \n",
       "3     *       *        0       0   \n",
       "4     *       *        0       0   \n",
       "\n",
       "                                            read_seq  \\\n",
       "0  TTTTTTTCTTTTTTCCCTTCCTCCCCCCCTTTTTTCTTTTTTCTTT...   \n",
       "1                                GAACATATGCTCAGGTAGG   \n",
       "2                              GGATGCTAATGGTCGGTTATA   \n",
       "3  TACTCTTCTTGTGGAAAGGACGAAACACCGTGCCGTCGTCGTCGGC...   \n",
       "4  ACTTTCTCTTGTGGAAAGGACGAAACACCGCATCTTTGGTCTTCTT...   \n",
       "\n",
       "                                                 aln    opt1 opt2 opt3 opt4  \\\n",
       "0   1>>>>>ACFFDFBE01A1F0AF100A0AEE0111/01A111/011112     NaN  NaN  NaN  NaN   \n",
       "1                                A00A/G1GDFGG1EBGEB/  XM:i:0  NaN  NaN  NaN   \n",
       "2                              C00BEFG2DFFFGE/?EE/EF  XM:i:0  NaN  NaN  NaN   \n",
       "3  A1>A>FFFFFFF111F1111BA000AFFFA0A0AAEEEGC/EA//E...     NaN  NaN  NaN  NaN   \n",
       "4  11>AA3BDFFBF11111111B000EAGFE?000E12DB0/A21B2D...     NaN  NaN  NaN  NaN   \n",
       "\n",
       "   opt5  opt6  opt7  \n",
       "0   NaN   NaN   NaN  \n",
       "1   NaN   NaN   NaN  \n",
       "2   NaN   NaN   NaN  \n",
       "3   NaN   NaN   NaN  \n",
       "4   NaN   NaN   NaN  "
      ]
     },
     "execution_count": 23,
     "metadata": {},
     "output_type": "execute_result"
    }
   ],
   "source": [
    "aln.head()"
   ]
  },
  {
   "cell_type": "code",
   "execution_count": 24,
   "metadata": {},
   "outputs": [
    {
     "data": {
      "text/plain": [
       "(5012, 18)"
      ]
     },
     "execution_count": 24,
     "metadata": {},
     "output_type": "execute_result"
    }
   ],
   "source": [
    "aln.shape"
   ]
  },
  {
   "cell_type": "markdown",
   "metadata": {},
   "source": [
    "We would like to keep only aligned reads, to we can filter out the unmapped reads:"
   ]
  },
  {
   "cell_type": "code",
   "execution_count": 25,
   "metadata": {},
   "outputs": [
    {
     "data": {
      "text/plain": [
       "array(['*', '20M', '19M', '18M'], dtype=object)"
      ]
     },
     "execution_count": 25,
     "metadata": {},
     "output_type": "execute_result"
    }
   ],
   "source": [
    "aln['cigar'].unique()"
   ]
  },
  {
   "cell_type": "code",
   "execution_count": 26,
   "metadata": {},
   "outputs": [],
   "source": [
    "aln_filtered = aln[aln['cigar'] != \"*\"]"
   ]
  },
  {
   "cell_type": "code",
   "execution_count": 27,
   "metadata": {},
   "outputs": [
    {
     "data": {
      "text/plain": [
       "(2261, 18)"
      ]
     },
     "execution_count": 27,
     "metadata": {},
     "output_type": "execute_result"
    }
   ],
   "source": [
    "aln_filtered.shape"
   ]
  },
  {
   "cell_type": "markdown",
   "metadata": {},
   "source": [
    "The unmapped reads should be removed, so filter out the rows with '\\*' in 'ref' field: "
   ]
  },
  {
   "cell_type": "code",
   "execution_count": 28,
   "metadata": {},
   "outputs": [],
   "source": [
    "aln_filtered['gene'] = aln_filtered['ref'].str.split(\"_\", 1, expand=True)[0]"
   ]
  },
  {
   "cell_type": "markdown",
   "metadata": {},
   "source": [
    "Now, let's use aggregation function to count occurence of genes:"
   ]
  },
  {
   "cell_type": "code",
   "execution_count": 29,
   "metadata": {},
   "outputs": [],
   "source": [
    "genes_count = aln_filtered.groupby('gene').size()"
   ]
  },
  {
   "cell_type": "code",
   "execution_count": 30,
   "metadata": {},
   "outputs": [],
   "source": [
    "genes_count.to_csv(\"counts_report2.tsv\", sep=\"\\t\", header=[\"count\"])"
   ]
  },
  {
   "cell_type": "markdown",
   "metadata": {},
   "source": [
    "All the processing will be now gathered as a single function:"
   ]
  },
  {
   "cell_type": "code",
   "execution_count": 31,
   "metadata": {},
   "outputs": [],
   "source": [
    "def count_genes_pandas(sam_aln, report, cols):\n",
    "    aln = pd.read_csv(sam_aln, delimiter=\"\\t\", names=cols, comment=\"@\", \n",
    "                  index_col=False, compression='infer')\n",
    "    aln = aln[aln['cigar'] != \"*\"]\n",
    "    aln['gene'] = aln['ref'].str.split(\"_\", 1, expand=True)[0]\n",
    "    genes_count = aln.groupby('gene').size()\n",
    "    genes_count.to_csv(report, sep=\"\\t\", header=[\"count\"])"
   ]
  },
  {
   "cell_type": "code",
   "execution_count": 67,
   "metadata": {},
   "outputs": [
    {
     "name": "stdout",
     "output_type": "stream",
     "text": [
      "CPU times: user 65.3 ms, sys: 2.82 ms, total: 68.1 ms\n",
      "Wall time: 68.8 ms\n"
     ]
    }
   ],
   "source": [
    "%time count_genes_pandas(\"data/sam_files/sample1.sam\", \"count_report_pd.tsv\", column_names)"
   ]
  },
  {
   "cell_type": "code",
   "execution_count": 66,
   "metadata": {},
   "outputs": [
    {
     "name": "stdout",
     "output_type": "stream",
     "text": [
      "CPU times: user 68.6 ms, sys: 3.98 ms, total: 72.6 ms\n",
      "Wall time: 71.6 ms\n"
     ]
    }
   ],
   "source": [
    "%time count_genes_pandas(\"data/tsv_files/sample1.tsv.gz\", \"count_report_pd.tsv\", column_names)"
   ]
  },
  {
   "cell_type": "markdown",
   "metadata": {},
   "source": [
    "## Parquet files\n",
    "\n",
    "#### Approach 3: converting the file into parquet files.\n",
    "In this approach we are testing what may be a benefit of storing the data in a parquet files instead of tsv files."
   ]
  },
  {
   "cell_type": "code",
   "execution_count": 38,
   "metadata": {},
   "outputs": [],
   "source": [
    "pd_file = pd.read_table('data/sam_files/sample1.sam', comment=\"@\", \n",
    "                       names=column_names, index_col=False, compression='infer')\n",
    "pq.write_table(pa.Table.from_pandas(pd_file), 'data/sample1.pq', compression='snappy')"
   ]
  },
  {
   "cell_type": "code",
   "execution_count": 51,
   "metadata": {},
   "outputs": [],
   "source": [
    "def count_genes_pq(pq_file, report):\n",
    "    aln = pd.read_parquet(pq_file, use_threads=True)\n",
    "    aln = aln[aln['cigar'] != \"*\"]\n",
    "    aln['gene'] = aln['ref'].str.split(\"_\", 1, expand=True)[0]\n",
    "    genes_count = aln.groupby('gene').size().to_frame(name=\"count\")\n",
    "    genes_count.to_csv(report, sep=\"\\t\", header=[\"count\"])"
   ]
  },
  {
   "cell_type": "code",
   "execution_count": 64,
   "metadata": {},
   "outputs": [
    {
     "name": "stdout",
     "output_type": "stream",
     "text": [
      "CPU times: user 59.5 ms, sys: 4.37 ms, total: 63.9 ms\n",
      "Wall time: 60 ms\n"
     ]
    }
   ],
   "source": [
    "%time count_genes_pq(\"data/sample1.pq\", \"data/count_report.tsv\")"
   ]
  },
  {
   "cell_type": "markdown",
   "metadata": {},
   "source": [
    "## Multiprocessing"
   ]
  },
  {
   "cell_type": "markdown",
   "metadata": {},
   "source": [
    "#### Approach 4: dividing a file into chunks\n",
    "\n",
    "This approach may be especially useful if large files will be processed and when someone would like to avoid reading the whole file into memory.  Also, if someone would like to process the large file and keep intermediate results.\n",
    "In this approach we are going to use pyarrow module, which allows us to write data into parquet files. One of very important advantage of this operation is improving the peformance."
   ]
  },
  {
   "cell_type": "code",
   "execution_count": 54,
   "metadata": {},
   "outputs": [],
   "source": [
    "reader = pd.read_table('data/sam_files/sample1.sam', chunksize=1e3, comment=\"@\", \n",
    "                       names=column_names, index_col=False, compression='infer')\n",
    "\n",
    "for chunk_no, chunk in enumerate(reader):\n",
    "    pq.write_table(pa.Table.from_pandas(chunk),\n",
    "    os.path.join('data/pq_files_in', 'aln-{:04d}.parquet'.format(chunk_no)), compression='snappy')"
   ]
  },
  {
   "cell_type": "code",
   "execution_count": 55,
   "metadata": {},
   "outputs": [],
   "source": [
    "def extract_genes(df):\n",
    "    df = df[df['cigar'] != \"*\"]\n",
    "    df['gene'] = df['ref'].str.split(\"_\", 1, expand=True)[0]\n",
    "    return df[['gene']]"
   ]
  },
  {
   "cell_type": "code",
   "execution_count": 56,
   "metadata": {},
   "outputs": [],
   "source": [
    "def process_aln(filename, out_dir):\n",
    "    chunk = pq.read_table(filename, use_threads=True).to_pandas()\n",
    "    chunk_genes = extract_genes(chunk)\n",
    "    pq.write_table(pa.Table.from_pandas(chunk_genes), \n",
    "                   os.path.join(out_dir, os.path.basename(filename)), \n",
    "                   compression='snappy')"
   ]
  },
  {
   "cell_type": "code",
   "execution_count": 58,
   "metadata": {},
   "outputs": [
    {
     "name": "stdout",
     "output_type": "stream",
     "text": [
      "233 ms ± 36.8 ms per loop (mean ± std. dev. of 7 runs, 1 loop each)\n"
     ]
    }
   ],
   "source": [
    "%%timeit\n",
    "pool = mp.Pool()\n",
    "out_dir = \"data/pq_files_out\"\n",
    "in_dir = \"data/pq_files_in\"\n",
    "for filename in glob.glob(os.path.join(in_dir, '*.parquet')):\n",
    "    pool.apply_async(process_aln, args=(filename, out_dir, ))\n",
    "pool.close()\n",
    "pool.join()"
   ]
  },
  {
   "cell_type": "code",
   "execution_count": 59,
   "metadata": {},
   "outputs": [
    {
     "name": "stdout",
     "output_type": "stream",
     "text": [
      "CPU times: user 6.34 ms, sys: 4.4 ms, total: 10.7 ms\n",
      "Wall time: 9.72 ms\n"
     ]
    }
   ],
   "source": [
    "%%time\n",
    "df = pq.read_table('data/pq_files_out/', use_threads=True).to_pandas()\n",
    "genes = df.groupby('gene').size().to_frame(name=\"count\")\n",
    "genes.to_csv('counts_report_pq.tsv', sep=\"\\t\")"
   ]
  },
  {
   "cell_type": "code",
   "execution_count": 63,
   "metadata": {},
   "outputs": [
    {
     "name": "stdout",
     "output_type": "stream",
     "text": [
      "CPU times: user 24.7 ms, sys: 29.1 ms, total: 53.8 ms\n",
      "Wall time: 266 ms\n"
     ]
    }
   ],
   "source": [
    "%%time\n",
    "pool = mp.Pool()\n",
    "out_dir = \"data/pq_files_out\"\n",
    "in_dir = \"data/pq_files_in\"\n",
    "for filename in glob.glob(os.path.join(in_dir, '*.parquet')):\n",
    "    pool.apply_async(process_aln, args=(filename, out_dir, ))\n",
    "pool.close()\n",
    "pool.join()\n",
    "\n",
    "df = pq.read_table('data/pq_files_out/', use_threads=True).to_pandas()\n",
    "genes = df.groupby('gene').size().to_frame(name=\"count\")\n",
    "genes.to_csv('counts_report_pq.tsv', sep=\"\\t\")"
   ]
  },
  {
   "cell_type": "markdown",
   "metadata": {},
   "source": [
    "## Plotting"
   ]
  },
  {
   "cell_type": "markdown",
   "metadata": {},
   "source": [
    "Now, we are going to process all four samples and then the results will be plotted."
   ]
  },
  {
   "cell_type": "code",
   "execution_count": 68,
   "metadata": {},
   "outputs": [],
   "source": [
    "sam_dir = \"./data/sam_files/\"\n",
    "sam_files = glob.glob(os.path.join(sam_dir, '*.sam'))"
   ]
  },
  {
   "cell_type": "code",
   "execution_count": 71,
   "metadata": {
    "scrolled": true
   },
   "outputs": [
    {
     "name": "stdout",
     "output_type": "stream",
     "text": [
      "['./data/sam_files/sample2.sam', './data/sam_files/sample4.sam', './data/sam_files/sample1.sam', './data/sam_files/sample3.sam']\n"
     ]
    }
   ],
   "source": [
    "print(sam_files)"
   ]
  },
  {
   "cell_type": "code",
   "execution_count": 69,
   "metadata": {},
   "outputs": [],
   "source": [
    "def count_genes_pandas(sam_aln, report, cols):\n",
    "    aln = pd.read_csv(sam_aln, delimiter=\"\\t\", names=cols, comment=\"@\", \n",
    "                  index_col=False, compression='infer')\n",
    "    aln = aln[aln['cigar'] != \"*\"]\n",
    "    aln['gene'] = aln['ref'].str.split(\"_\", 1, expand=True)[0]\n",
    "    genes_count = aln.groupby('gene').size()\n",
    "    genes_count.to_csv(report, sep=\"\\t\", header=[\"count\"])"
   ]
  },
  {
   "cell_type": "code",
   "execution_count": 70,
   "metadata": {},
   "outputs": [],
   "source": [
    "for sam_file in sam_files:\n",
    "    sample = os.path.basename(sam_file).split(\".\")[0]\n",
    "    count_genes_pandas(sam_file, sample+\"_report.tsv\", column_names)"
   ]
  },
  {
   "cell_type": "code",
   "execution_count": 72,
   "metadata": {},
   "outputs": [],
   "source": [
    "gene_counts_1 = pd.read_csv(\"data/tsv_files/sample1_report.tsv\", sep=\"\\t\")\n",
    "gene_counts_1 = gene_counts_1.set_index('gene')\n",
    "gene_counts_2 = pd.read_csv(\"data/tsv_files/sample2_report.tsv\", sep=\"\\t\")\n",
    "gene_counts_2 = gene_counts_2.set_index(\"gene\")\n",
    "gene_counts_3 = pd.read_csv(\"data/tsv_files/sample3_report.tsv\", sep=\"\\t\")\n",
    "gene_counts_3 = gene_counts_3.set_index(\"gene\")\n",
    "gene_counts_4 = pd.read_csv(\"data/tsv_files/sample4_report.tsv\", sep=\"\\t\")\n",
    "gene_counts_4 = gene_counts_4.set_index(\"gene\")"
   ]
  },
  {
   "cell_type": "code",
   "execution_count": 73,
   "metadata": {},
   "outputs": [],
   "source": [
    "gene_counts_all =  pd.merge(gene_counts_1, gene_counts_2,\n",
    "                            on=\"gene\", how=\"outer\", suffixes=['_1', '_2'])"
   ]
  },
  {
   "cell_type": "code",
   "execution_count": 74,
   "metadata": {},
   "outputs": [],
   "source": [
    "gene_counts_all_p2 =  pd.merge(gene_counts_3, gene_counts_4,\n",
    "                            on=\"gene\", how=\"outer\", suffixes=['_3', '_4'])"
   ]
  },
  {
   "cell_type": "code",
   "execution_count": 75,
   "metadata": {},
   "outputs": [],
   "source": [
    "gene_counts_all = pd.merge(gene_counts_all, gene_counts_all_p2, on=\"gene\")"
   ]
  },
  {
   "cell_type": "code",
   "execution_count": 76,
   "metadata": {},
   "outputs": [
    {
     "data": {
      "text/html": [
       "<div>\n",
       "<style scoped>\n",
       "    .dataframe tbody tr th:only-of-type {\n",
       "        vertical-align: middle;\n",
       "    }\n",
       "\n",
       "    .dataframe tbody tr th {\n",
       "        vertical-align: top;\n",
       "    }\n",
       "\n",
       "    .dataframe thead th {\n",
       "        text-align: right;\n",
       "    }\n",
       "</style>\n",
       "<table border=\"1\" class=\"dataframe\">\n",
       "  <thead>\n",
       "    <tr style=\"text-align: right;\">\n",
       "      <th></th>\n",
       "      <th>count_1</th>\n",
       "      <th>count_2</th>\n",
       "      <th>count_3</th>\n",
       "      <th>count_4</th>\n",
       "    </tr>\n",
       "    <tr>\n",
       "      <th>gene</th>\n",
       "      <th></th>\n",
       "      <th></th>\n",
       "      <th></th>\n",
       "      <th></th>\n",
       "    </tr>\n",
       "  </thead>\n",
       "  <tbody>\n",
       "    <tr>\n",
       "      <th>BAX</th>\n",
       "      <td>39.0</td>\n",
       "      <td>19.0</td>\n",
       "      <td>39.0</td>\n",
       "      <td>34.0</td>\n",
       "    </tr>\n",
       "    <tr>\n",
       "      <th>CASP8</th>\n",
       "      <td>63.0</td>\n",
       "      <td>89.0</td>\n",
       "      <td>60.0</td>\n",
       "      <td>84.0</td>\n",
       "    </tr>\n",
       "    <tr>\n",
       "      <th>ENSG00000002330</th>\n",
       "      <td>3.0</td>\n",
       "      <td>10.0</td>\n",
       "      <td>3.0</td>\n",
       "      <td>6.0</td>\n",
       "    </tr>\n",
       "    <tr>\n",
       "      <th>ENSG00000015475</th>\n",
       "      <td>22.0</td>\n",
       "      <td>13.0</td>\n",
       "      <td>15.0</td>\n",
       "      <td>9.0</td>\n",
       "    </tr>\n",
       "    <tr>\n",
       "      <th>ENSG00000030110</th>\n",
       "      <td>5.0</td>\n",
       "      <td>5.0</td>\n",
       "      <td>NaN</td>\n",
       "      <td>7.0</td>\n",
       "    </tr>\n",
       "  </tbody>\n",
       "</table>\n",
       "</div>"
      ],
      "text/plain": [
       "                 count_1  count_2  count_3  count_4\n",
       "gene                                               \n",
       "BAX                 39.0     19.0     39.0     34.0\n",
       "CASP8               63.0     89.0     60.0     84.0\n",
       "ENSG00000002330      3.0     10.0      3.0      6.0\n",
       "ENSG00000015475     22.0     13.0     15.0      9.0\n",
       "ENSG00000030110      5.0      5.0      NaN      7.0"
      ]
     },
     "execution_count": 76,
     "metadata": {},
     "output_type": "execute_result"
    }
   ],
   "source": [
    "gene_counts_all.head()"
   ]
  },
  {
   "cell_type": "code",
   "execution_count": 77,
   "metadata": {},
   "outputs": [],
   "source": [
    "gene_counts_all.columns = [\"sample1\", \"sample2\", \"sample3\", \"sample4\"]"
   ]
  },
  {
   "cell_type": "code",
   "execution_count": 79,
   "metadata": {},
   "outputs": [
    {
     "data": {
      "image/png": "[encoded data removed]",
      "text/plain": [
       "<Figure size 432x288 with 1 Axes>"
      ]
     },
     "metadata": {},
     "output_type": "display_data"
    }
   ],
   "source": [
    "sns.set(style=\"whitegrid\")\n",
    "data = pd.melt(gene_counts_all)\n",
    "ax = sns.boxplot(x=\"variable\", y=\"value\", data=data)\n",
    "ax.set(xlabel='sample', ylabel='counts', title=\"Genes abundance\")\n",
    "plt.show()"
   ]
  },
  {
   "cell_type": "code",
   "execution_count": 80,
   "metadata": {},
   "outputs": [
    {
     "data": {
      "image/png": "[encoded data removed]",
      "text/plain": [
       "<Figure size 432x288 with 1 Axes>"
      ]
     },
     "metadata": {},
     "output_type": "display_data"
    }
   ],
   "source": [
    "for sample in gene_counts_all.columns:\n",
    "#     ax = sns.distplot(gene_counts_all[sample].dropna(), kde=True, kde_kws = {'shade': True, 'linewidth': 3}, \n",
    "#                       hist=False, label=sample)\n",
    "    ax = sns.distplot(gene_counts_all[sample].dropna(), kde=False, hist=True, label=sample)\n",
    "ax.set(xlabel='counts', title=\"Genes abundance\")\n",
    "ax.legend()\n",
    "plt.show()"
   ]
  }
 ],
 "metadata": {
  "kernelspec": {
   "display_name": "Python 3",
   "language": "python",
   "name": "python3"
  },
  "language_info": {
   "codemirror_mode": {
    "name": "ipython",
    "version": 3
   },
   "file_extension": ".py",
   "mimetype": "text/x-python",
   "name": "python",
   "nbconvert_exporter": "python",
   "pygments_lexer": "ipython3",
   "version": "3.6.7"
  }
 },
 "nbformat": 4,
 "nbformat_minor": 2
}
